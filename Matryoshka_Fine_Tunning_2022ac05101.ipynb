{
 "cells": [
  {
   "cell_type": "code",
   "execution_count": 17,
   "metadata": {
    "execution": {
     "iopub.execute_input": "2025-02-01T15:05:17.080308Z",
     "iopub.status.busy": "2025-02-01T15:05:17.080095Z",
     "iopub.status.idle": "2025-02-01T15:05:17.091240Z",
     "shell.execute_reply": "2025-02-01T15:05:17.090441Z",
     "shell.execute_reply.started": "2025-02-01T15:05:17.080290Z"
    },
    "trusted": true
   },
   "outputs": [],
   "source": [
    "import pandas as pd\n",
    "from sklearn.model_selection import train_test_split\n",
    "import torch\n",
    "from sentence_transformers import SentenceTransformer\n",
    "from sentence_transformers.evaluation import (\n",
    "    InformationRetrievalEvaluator,\n",
    "    SequentialEvaluator,\n",
    ")\n",
    "from sentence_transformers.util import cos_sim\n",
    "from datasets import load_dataset, concatenate_datasets\n",
    "from sentence_transformers import SentenceTransformerModelCardData, SentenceTransformer\n",
    "from sentence_transformers.losses import MatryoshkaLoss, MultipleNegativesRankingLoss\n",
    "from sentence_transformers import SentenceTransformerTrainingArguments\n",
    "from sentence_transformers.training_args import BatchSamplers\n",
    "from sentence_transformers import SentenceTransformerTrainer"
   ]
  },
  {
   "cell_type": "code",
   "execution_count": 18,
   "metadata": {
    "execution": {
     "iopub.execute_input": "2025-02-01T15:05:17.093162Z",
     "iopub.status.busy": "2025-02-01T15:05:17.092908Z",
     "iopub.status.idle": "2025-02-01T15:05:17.118802Z",
     "shell.execute_reply": "2025-02-01T15:05:17.118019Z",
     "shell.execute_reply.started": "2025-02-01T15:05:17.093131Z"
    },
    "trusted": true
   },
   "outputs": [
    {
     "data": {
      "text/html": [
       "<div>\n",
       "<style scoped>\n",
       "    .dataframe tbody tr th:only-of-type {\n",
       "        vertical-align: middle;\n",
       "    }\n",
       "\n",
       "    .dataframe tbody tr th {\n",
       "        vertical-align: top;\n",
       "    }\n",
       "\n",
       "    .dataframe thead th {\n",
       "        text-align: right;\n",
       "    }\n",
       "</style>\n",
       "<table border=\"1\" class=\"dataframe\">\n",
       "  <thead>\n",
       "    <tr style=\"text-align: right;\">\n",
       "      <th></th>\n",
       "      <th>id</th>\n",
       "      <th>anchor</th>\n",
       "      <th>positive</th>\n",
       "    </tr>\n",
       "  </thead>\n",
       "  <tbody>\n",
       "    <tr>\n",
       "      <th>0</th>\n",
       "      <td>0</td>\n",
       "      <td>What significant challenges does the rapid exp...</td>\n",
       "      <td>Balancing scalability and security, computatio...</td>\n",
       "    </tr>\n",
       "    <tr>\n",
       "      <th>1</th>\n",
       "      <td>1</td>\n",
       "      <td>How does the proposed framework address the in...</td>\n",
       "      <td>By employing edge aggregating servers and Ethe...</td>\n",
       "    </tr>\n",
       "    <tr>\n",
       "      <th>2</th>\n",
       "      <td>2</td>\n",
       "      <td>What are the primary benefits of using blockch...</td>\n",
       "      <td>Data integrity, device authentication, and pro...</td>\n",
       "    </tr>\n",
       "    <tr>\n",
       "      <th>3</th>\n",
       "      <td>3</td>\n",
       "      <td>Why are traditional blockchain-based solutions...</td>\n",
       "      <td>Due to scalability, cost issues, and computati...</td>\n",
       "    </tr>\n",
       "    <tr>\n",
       "      <th>4</th>\n",
       "      <td>4</td>\n",
       "      <td>How does the proposed framework ensure data pr...</td>\n",
       "      <td>Through the use of Zero-Knowledge Proofs (ZKPs...</td>\n",
       "    </tr>\n",
       "  </tbody>\n",
       "</table>\n",
       "</div>"
      ],
      "text/plain": [
       "   id                                             anchor  \\\n",
       "0   0  What significant challenges does the rapid exp...   \n",
       "1   1  How does the proposed framework address the in...   \n",
       "2   2  What are the primary benefits of using blockch...   \n",
       "3   3  Why are traditional blockchain-based solutions...   \n",
       "4   4  How does the proposed framework ensure data pr...   \n",
       "\n",
       "                                            positive  \n",
       "0  Balancing scalability and security, computatio...  \n",
       "1  By employing edge aggregating servers and Ethe...  \n",
       "2  Data integrity, device authentication, and pro...  \n",
       "3  Due to scalability, cost issues, and computati...  \n",
       "4  Through the use of Zero-Knowledge Proofs (ZKPs...  "
      ]
     },
     "execution_count": 18,
     "metadata": {},
     "output_type": "execute_result"
    }
   ],
   "source": [
    "df = pd.read_csv(\"./input/train-data/train.csv\")\n",
    "df.rename(columns={\"Unnamed: 0\":\"id\",\"question\":\"anchor\",\"answer\":\"positive\"},inplace=True)\n",
    "df.drop(\"text\",axis=1,inplace=True)\n",
    "df.head()"
   ]
  },
  {
   "cell_type": "code",
   "execution_count": 19,
   "metadata": {
    "execution": {
     "iopub.execute_input": "2025-02-01T15:05:17.120083Z",
     "iopub.status.busy": "2025-02-01T15:05:17.119809Z",
     "iopub.status.idle": "2025-02-01T15:05:17.127726Z",
     "shell.execute_reply": "2025-02-01T15:05:17.126897Z",
     "shell.execute_reply.started": "2025-02-01T15:05:17.120064Z"
    },
    "trusted": true
   },
   "outputs": [],
   "source": [
    "train, test = train_test_split(df, test_size=0.1, random_state=42)\n",
    "\n",
    "train.to_json(\"train_dataset.json\", orient=\"records\")\n",
    "test.to_json(\"test_dataset.json\", orient=\"records\")"
   ]
  },
  {
   "cell_type": "code",
   "execution_count": 20,
   "metadata": {
    "execution": {
     "iopub.execute_input": "2025-02-01T15:05:17.129457Z",
     "iopub.status.busy": "2025-02-01T15:05:17.129197Z",
     "iopub.status.idle": "2025-02-01T15:05:17.139605Z",
     "shell.execute_reply": "2025-02-01T15:05:17.138797Z",
     "shell.execute_reply.started": "2025-02-01T15:05:17.129437Z"
    },
    "trusted": true
   },
   "outputs": [],
   "source": [
    "model_id = \"BAAI/bge-base-en-v1.5\" \n",
    "matryoshka_dimensions = [768, 512, 256, 128, 64]"
   ]
  },
  {
   "cell_type": "code",
   "execution_count": 21,
   "metadata": {
    "execution": {
     "iopub.execute_input": "2025-02-01T15:05:17.141158Z",
     "iopub.status.busy": "2025-02-01T15:05:17.140844Z",
     "iopub.status.idle": "2025-02-01T15:05:18.043788Z",
     "shell.execute_reply": "2025-02-01T15:05:18.042841Z",
     "shell.execute_reply.started": "2025-02-01T15:05:17.141125Z"
    },
    "trusted": true
   },
   "outputs": [],
   "source": [
    "model = SentenceTransformer(model_id, device=\"cuda\" if torch.cuda.is_available() else \"cpu\")"
   ]
  },
  {
   "cell_type": "code",
   "execution_count": 22,
   "metadata": {
    "execution": {
     "iopub.execute_input": "2025-02-01T15:05:18.045061Z",
     "iopub.status.busy": "2025-02-01T15:05:18.044735Z",
     "iopub.status.idle": "2025-02-01T15:05:18.232433Z",
     "shell.execute_reply": "2025-02-01T15:05:18.231725Z",
     "shell.execute_reply.started": "2025-02-01T15:05:18.045037Z"
    },
    "trusted": true
   },
   "outputs": [
    {
     "data": {
      "application/vnd.jupyter.widget-view+json": {
       "model_id": "3fbd63027359466795588feb2dc3aa01",
       "version_major": 2,
       "version_minor": 0
      },
      "text/plain": [
       "Generating train split: 0 examples [00:00, ? examples/s]"
      ]
     },
     "metadata": {},
     "output_type": "display_data"
    },
    {
     "data": {
      "application/vnd.jupyter.widget-view+json": {
       "model_id": "7063c07241594633b84afc668d2d8ef2",
       "version_major": 2,
       "version_minor": 0
      },
      "text/plain": [
       "Generating train split: 0 examples [00:00, ? examples/s]"
      ]
     },
     "metadata": {},
     "output_type": "display_data"
    }
   ],
   "source": [
    "test_dataset = load_dataset(\"json\", data_files=\"test_dataset.json\", split=\"train\")\n",
    "train_dataset = load_dataset(\"json\", data_files=\"train_dataset.json\", split=\"train\")\n",
    "combined_dataset = concatenate_datasets([train_dataset, test_dataset])"
   ]
  },
  {
   "cell_type": "code",
   "execution_count": 23,
   "metadata": {
    "execution": {
     "iopub.execute_input": "2025-02-01T15:05:18.234076Z",
     "iopub.status.busy": "2025-02-01T15:05:18.233853Z",
     "iopub.status.idle": "2025-02-01T15:05:18.238687Z",
     "shell.execute_reply": "2025-02-01T15:05:18.237731Z",
     "shell.execute_reply.started": "2025-02-01T15:05:18.234056Z"
    },
    "trusted": true
   },
   "outputs": [
    {
     "name": "stdout",
     "output_type": "stream",
     "text": [
      "{'id': 622, 'anchor': 'What is the significance of the study period chosen for the analysis?', 'positive': 'The study period captures the initial impact of COVID-19 on global stock markets.'}\n"
     ]
    }
   ],
   "source": [
    "for i in train_dataset:\n",
    "    print(i)\n",
    "    break"
   ]
  },
  {
   "cell_type": "code",
   "execution_count": 24,
   "metadata": {
    "execution": {
     "iopub.execute_input": "2025-02-01T15:05:18.240505Z",
     "iopub.status.busy": "2025-02-01T15:05:18.240263Z",
     "iopub.status.idle": "2025-02-01T15:05:18.255832Z",
     "shell.execute_reply": "2025-02-01T15:05:18.255182Z",
     "shell.execute_reply.started": "2025-02-01T15:05:18.240478Z"
    },
    "trusted": true
   },
   "outputs": [],
   "source": [
    "corpus = dict(zip(combined_dataset[\"id\"], combined_dataset[\"positive\"])) \n",
    "\n",
    "queries = dict(zip(test_dataset[\"id\"], test_dataset[\"anchor\"])) "
   ]
  },
  {
   "cell_type": "code",
   "execution_count": 25,
   "metadata": {
    "execution": {
     "iopub.execute_input": "2025-02-01T15:05:18.256780Z",
     "iopub.status.busy": "2025-02-01T15:05:18.256586Z",
     "iopub.status.idle": "2025-02-01T15:05:18.270734Z",
     "shell.execute_reply": "2025-02-01T15:05:18.269995Z",
     "shell.execute_reply.started": "2025-02-01T15:05:18.256762Z"
    },
    "trusted": true
   },
   "outputs": [
    {
     "name": "stdout",
     "output_type": "stream",
     "text": [
      "(622, 'The study period captures the initial impact of COVID-19 on global stock markets.')\n",
      "(192, 'How do adversarial examples challenge the reliability of deep learning models?')\n"
     ]
    }
   ],
   "source": [
    "for i in corpus.items():\n",
    "    print(i)\n",
    "    break\n",
    "for i in queries.items():\n",
    "    print(i)\n",
    "    break"
   ]
  },
  {
   "cell_type": "code",
   "execution_count": 26,
   "metadata": {
    "execution": {
     "iopub.execute_input": "2025-02-01T15:05:18.271797Z",
     "iopub.status.busy": "2025-02-01T15:05:18.271586Z",
     "iopub.status.idle": "2025-02-01T15:05:18.285846Z",
     "shell.execute_reply": "2025-02-01T15:05:18.285035Z",
     "shell.execute_reply.started": "2025-02-01T15:05:18.271778Z"
    },
    "trusted": true
   },
   "outputs": [],
   "source": [
    "relevant_docs = {} #  Query ID to relevant documents (qid => set([relevant_cids])\n",
    "for q_id in queries:\n",
    "    relevant_docs[q_id] = [q_id]"
   ]
  },
  {
   "cell_type": "code",
   "execution_count": 27,
   "metadata": {
    "execution": {
     "iopub.execute_input": "2025-02-01T15:05:18.286768Z",
     "iopub.status.busy": "2025-02-01T15:05:18.286579Z",
     "iopub.status.idle": "2025-02-01T15:05:18.300634Z",
     "shell.execute_reply": "2025-02-01T15:05:18.299861Z",
     "shell.execute_reply.started": "2025-02-01T15:05:18.286751Z"
    },
    "trusted": true
   },
   "outputs": [
    {
     "name": "stdout",
     "output_type": "stream",
     "text": [
      "(192, [192])\n"
     ]
    }
   ],
   "source": [
    "for i in relevant_docs.items():\n",
    "    print(i)\n",
    "    break"
   ]
  },
  {
   "cell_type": "code",
   "execution_count": 28,
   "metadata": {
    "execution": {
     "iopub.execute_input": "2025-02-01T15:05:18.301600Z",
     "iopub.status.busy": "2025-02-01T15:05:18.301338Z",
     "iopub.status.idle": "2025-02-01T15:05:18.317249Z",
     "shell.execute_reply": "2025-02-01T15:05:18.316531Z",
     "shell.execute_reply.started": "2025-02-01T15:05:18.301580Z"
    },
    "trusted": true
   },
   "outputs": [
    {
     "data": {
      "text/plain": [
       "[<sentence_transformers.evaluation.InformationRetrievalEvaluator.InformationRetrievalEvaluator at 0x7c5b540f1e70>,\n",
       " <sentence_transformers.evaluation.InformationRetrievalEvaluator.InformationRetrievalEvaluator at 0x7c5b540f10f0>,\n",
       " <sentence_transformers.evaluation.InformationRetrievalEvaluator.InformationRetrievalEvaluator at 0x7c5b540f2a40>,\n",
       " <sentence_transformers.evaluation.InformationRetrievalEvaluator.InformationRetrievalEvaluator at 0x7c5b540f1150>,\n",
       " <sentence_transformers.evaluation.InformationRetrievalEvaluator.InformationRetrievalEvaluator at 0x7c5b540f0fa0>]"
      ]
     },
     "execution_count": 28,
     "metadata": {},
     "output_type": "execute_result"
    }
   ],
   "source": [
    "'''Given a set of queries and a large corpus set. It will retrieve for each query the top-k most similar document. \n",
    "It measures Mean Reciprocal Rank (MRR), Recall@k, and Normalized Discounted Cumulative Gain (NDCG)\n",
    "https://sbert.net/docs/package_reference/sentence_transformer/evaluation.html'''\n",
    "\n",
    "matryoshka_evaluators = []\n",
    "\n",
    "for dim in matryoshka_dimensions:\n",
    "    ir_evaluator = InformationRetrievalEvaluator(\n",
    "        queries=queries,\n",
    "        corpus=corpus,\n",
    "        relevant_docs=relevant_docs,\n",
    "        name=f\"dim_{dim}\",\n",
    "        truncate_dim=dim,  # Truncate the embeddings to a certain dimension\n",
    "        score_functions={\"cosine\": cos_sim},\n",
    "    )\n",
    "    matryoshka_evaluators.append(ir_evaluator)\n",
    "\n",
    "matryoshka_evaluators"
   ]
  },
  {
   "cell_type": "code",
   "execution_count": 29,
   "metadata": {
    "execution": {
     "iopub.execute_input": "2025-02-01T15:05:18.318399Z",
     "iopub.status.busy": "2025-02-01T15:05:18.318104Z",
     "iopub.status.idle": "2025-02-01T15:05:18.332802Z",
     "shell.execute_reply": "2025-02-01T15:05:18.332014Z",
     "shell.execute_reply.started": "2025-02-01T15:05:18.318368Z"
    },
    "trusted": true
   },
   "outputs": [
    {
     "data": {
      "text/plain": [
       "<sentence_transformers.evaluation.SequentialEvaluator.SequentialEvaluator at 0x7c5b540f33d0>"
      ]
     },
     "execution_count": 29,
     "metadata": {},
     "output_type": "execute_result"
    }
   ],
   "source": [
    "evaluator = SequentialEvaluator(matryoshka_evaluators)\n",
    "evaluator"
   ]
  },
  {
   "cell_type": "code",
   "execution_count": 30,
   "metadata": {
    "execution": {
     "iopub.execute_input": "2025-02-01T15:05:18.335207Z",
     "iopub.status.busy": "2025-02-01T15:05:18.334980Z",
     "iopub.status.idle": "2025-02-01T15:05:22.660151Z",
     "shell.execute_reply": "2025-02-01T15:05:22.659379Z",
     "shell.execute_reply.started": "2025-02-01T15:05:18.335188Z"
    },
    "trusted": true
   },
   "outputs": [
    {
     "data": {
      "text/plain": [
       "{'dim_768_cosine_accuracy@1': 0.19753086419753085,\n",
       " 'dim_768_cosine_accuracy@3': 0.32098765432098764,\n",
       " 'dim_768_cosine_accuracy@5': 0.38271604938271603,\n",
       " 'dim_768_cosine_accuracy@10': 0.4691358024691358,\n",
       " 'dim_768_cosine_precision@1': 0.19753086419753085,\n",
       " 'dim_768_cosine_precision@3': 0.10699588477366255,\n",
       " 'dim_768_cosine_precision@5': 0.07654320987654321,\n",
       " 'dim_768_cosine_precision@10': 0.04691358024691358,\n",
       " 'dim_768_cosine_recall@1': 0.19753086419753085,\n",
       " 'dim_768_cosine_recall@3': 0.32098765432098764,\n",
       " 'dim_768_cosine_recall@5': 0.38271604938271603,\n",
       " 'dim_768_cosine_recall@10': 0.4691358024691358,\n",
       " 'dim_768_cosine_ndcg@10': 0.3220467006858192,\n",
       " 'dim_768_cosine_mrr@10': 0.2764060356652949,\n",
       " 'dim_768_cosine_map@100': 0.29134803459402797,\n",
       " 'dim_512_cosine_accuracy@1': 0.1728395061728395,\n",
       " 'dim_512_cosine_accuracy@3': 0.32098765432098764,\n",
       " 'dim_512_cosine_accuracy@5': 0.35802469135802467,\n",
       " 'dim_512_cosine_accuracy@10': 0.43209876543209874,\n",
       " 'dim_512_cosine_precision@1': 0.1728395061728395,\n",
       " 'dim_512_cosine_precision@3': 0.10699588477366255,\n",
       " 'dim_512_cosine_precision@5': 0.07160493827160494,\n",
       " 'dim_512_cosine_precision@10': 0.043209876543209874,\n",
       " 'dim_512_cosine_recall@1': 0.1728395061728395,\n",
       " 'dim_512_cosine_recall@3': 0.32098765432098764,\n",
       " 'dim_512_cosine_recall@5': 0.35802469135802467,\n",
       " 'dim_512_cosine_recall@10': 0.43209876543209874,\n",
       " 'dim_512_cosine_ndcg@10': 0.2997438851350533,\n",
       " 'dim_512_cosine_mrr@10': 0.25774544385655496,\n",
       " 'dim_512_cosine_map@100': 0.27551245256959106,\n",
       " 'dim_256_cosine_accuracy@1': 0.1728395061728395,\n",
       " 'dim_256_cosine_accuracy@3': 0.2716049382716049,\n",
       " 'dim_256_cosine_accuracy@5': 0.345679012345679,\n",
       " 'dim_256_cosine_accuracy@10': 0.41975308641975306,\n",
       " 'dim_256_cosine_precision@1': 0.1728395061728395,\n",
       " 'dim_256_cosine_precision@3': 0.0905349794238683,\n",
       " 'dim_256_cosine_precision@5': 0.06913580246913581,\n",
       " 'dim_256_cosine_precision@10': 0.041975308641975316,\n",
       " 'dim_256_cosine_recall@1': 0.1728395061728395,\n",
       " 'dim_256_cosine_recall@3': 0.2716049382716049,\n",
       " 'dim_256_cosine_recall@5': 0.345679012345679,\n",
       " 'dim_256_cosine_recall@10': 0.41975308641975306,\n",
       " 'dim_256_cosine_ndcg@10': 0.28755556990920456,\n",
       " 'dim_256_cosine_mrr@10': 0.24611992945326275,\n",
       " 'dim_256_cosine_map@100': 0.26453192209181503,\n",
       " 'dim_128_cosine_accuracy@1': 0.16049382716049382,\n",
       " 'dim_128_cosine_accuracy@3': 0.32098765432098764,\n",
       " 'dim_128_cosine_accuracy@5': 0.345679012345679,\n",
       " 'dim_128_cosine_accuracy@10': 0.41975308641975306,\n",
       " 'dim_128_cosine_precision@1': 0.16049382716049382,\n",
       " 'dim_128_cosine_precision@3': 0.10699588477366255,\n",
       " 'dim_128_cosine_precision@5': 0.0691358024691358,\n",
       " 'dim_128_cosine_precision@10': 0.04197530864197531,\n",
       " 'dim_128_cosine_recall@1': 0.16049382716049382,\n",
       " 'dim_128_cosine_recall@3': 0.32098765432098764,\n",
       " 'dim_128_cosine_recall@5': 0.345679012345679,\n",
       " 'dim_128_cosine_recall@10': 0.41975308641975306,\n",
       " 'dim_128_cosine_ndcg@10': 0.28250088889476005,\n",
       " 'dim_128_cosine_mrr@10': 0.2389231824417009,\n",
       " 'dim_128_cosine_map@100': 0.2521099258155015,\n",
       " 'dim_64_cosine_accuracy@1': 0.1111111111111111,\n",
       " 'dim_64_cosine_accuracy@3': 0.2345679012345679,\n",
       " 'dim_64_cosine_accuracy@5': 0.2716049382716049,\n",
       " 'dim_64_cosine_accuracy@10': 0.35802469135802467,\n",
       " 'dim_64_cosine_precision@1': 0.1111111111111111,\n",
       " 'dim_64_cosine_precision@3': 0.07818930041152262,\n",
       " 'dim_64_cosine_precision@5': 0.054320987654320994,\n",
       " 'dim_64_cosine_precision@10': 0.03580246913580247,\n",
       " 'dim_64_cosine_recall@1': 0.1111111111111111,\n",
       " 'dim_64_cosine_recall@3': 0.2345679012345679,\n",
       " 'dim_64_cosine_recall@5': 0.2716049382716049,\n",
       " 'dim_64_cosine_recall@10': 0.35802469135802467,\n",
       " 'dim_64_cosine_ndcg@10': 0.23287559095217322,\n",
       " 'dim_64_cosine_mrr@10': 0.19317068391142467,\n",
       " 'dim_64_cosine_map@100': 0.20606211666531737,\n",
       " 'sequential_score': 0.23287559095217322}"
      ]
     },
     "execution_count": 30,
     "metadata": {},
     "output_type": "execute_result"
    }
   ],
   "source": [
    "results = evaluator(model)\n",
    "\n",
    "results"
   ]
  },
  {
   "cell_type": "code",
   "execution_count": 31,
   "metadata": {
    "execution": {
     "iopub.execute_input": "2025-02-01T15:05:22.661432Z",
     "iopub.status.busy": "2025-02-01T15:05:22.661133Z",
     "iopub.status.idle": "2025-02-01T15:05:22.666517Z",
     "shell.execute_reply": "2025-02-01T15:05:22.665722Z",
     "shell.execute_reply.started": "2025-02-01T15:05:22.661409Z"
    },
    "trusted": true
   },
   "outputs": [
    {
     "name": "stdout",
     "output_type": "stream",
     "text": [
      "dim_768_cosine_ndcg@10: 0.3220467006858192\n",
      "dim_512_cosine_ndcg@10: 0.2997438851350533\n",
      "dim_256_cosine_ndcg@10: 0.28755556990920456\n",
      "dim_128_cosine_ndcg@10: 0.28250088889476005\n",
      "dim_64_cosine_ndcg@10: 0.23287559095217322\n"
     ]
    }
   ],
   "source": [
    "for dim in matryoshka_dimensions:\n",
    "    key = f\"dim_{dim}_cosine_ndcg@10\"\n",
    "    print\n",
    "    print(f\"{key}: {results[key]}\")"
   ]
  },
  {
   "cell_type": "code",
   "execution_count": 32,
   "metadata": {
    "execution": {
     "iopub.execute_input": "2025-02-01T15:05:22.667529Z",
     "iopub.status.busy": "2025-02-01T15:05:22.667333Z",
     "iopub.status.idle": "2025-02-01T15:05:23.460627Z",
     "shell.execute_reply": "2025-02-01T15:05:23.459711Z",
     "shell.execute_reply.started": "2025-02-01T15:05:22.667512Z"
    },
    "trusted": true
   },
   "outputs": [],
   "source": [
    "model_id = \"BAAI/bge-base-en-v1.5\"\n",
    "\n",
    "model = SentenceTransformer(\n",
    "    model_id,\n",
    "    model_kwargs={\"attn_implementation\": \"sdpa\"},\n",
    "    model_card_data=SentenceTransformerModelCardData(\n",
    "        language=\"en\",\n",
    "        license=\"apache-2.0\",\n",
    "        model_name=\"BGE base blockchain Matryoshka\",\n",
    "    ),\n",
    ").to(\"cuda\")"
   ]
  },
  {
   "cell_type": "code",
   "execution_count": 33,
   "metadata": {
    "execution": {
     "iopub.execute_input": "2025-02-01T15:05:23.461862Z",
     "iopub.status.busy": "2025-02-01T15:05:23.461567Z",
     "iopub.status.idle": "2025-02-01T15:05:23.465593Z",
     "shell.execute_reply": "2025-02-01T15:05:23.464879Z",
     "shell.execute_reply.started": "2025-02-01T15:05:23.461829Z"
    },
    "trusted": true
   },
   "outputs": [],
   "source": [
    "matryoshka_dimensions = [768, 512, 256, 128, 64]  \n",
    "\n",
    "inner_train_loss = MultipleNegativesRankingLoss(model)\n",
    "\n",
    "train_loss = MatryoshkaLoss(\n",
    "                        model, \n",
    "                        inner_train_loss,\n",
    "                        matryoshka_dims=matryoshka_dimensions\n",
    "                        )"
   ]
  },
  {
   "cell_type": "code",
   "execution_count": 34,
   "metadata": {
    "execution": {
     "iopub.execute_input": "2025-02-01T15:05:23.466767Z",
     "iopub.status.busy": "2025-02-01T15:05:23.466485Z",
     "iopub.status.idle": "2025-02-01T15:05:23.536323Z",
     "shell.execute_reply": "2025-02-01T15:05:23.535529Z",
     "shell.execute_reply.started": "2025-02-01T15:05:23.466738Z"
    },
    "trusted": true
   },
   "outputs": [],
   "source": [
    "train_dataset = load_dataset(\"json\", data_files=\"train_dataset.json\", split=\"train\")\n",
    "\n",
    "# define training arguments\n",
    "args = SentenceTransformerTrainingArguments(\n",
    "    output_dir=\"bge-base-blockchain-matryoshka\", \n",
    "    num_train_epochs=4,                         \n",
    "    per_device_train_batch_size=16,             # train batch size\n",
    "    gradient_accumulation_steps=8,             # for a global batch size of 512\n",
    "    per_device_eval_batch_size=8,              # evaluation batch size\n",
    "    warmup_ratio=0.1,                           # warmup ratio\n",
    "    learning_rate=2e-5,                         # learning rate, 2e-5 is a good value\n",
    "    lr_scheduler_type=\"cosine\",                 # use constant learning rate scheduler\n",
    "    optim=\"adamw_torch_fused\",                  # use fused adamw optimizer\n",
    "    tf32= False,                                  # use tf32 precision\n",
    "    bf16=True,                                  # use bf16 precision\n",
    "    batch_sampler=BatchSamplers.NO_DUPLICATES,  # MultipleNegativesRankingLoss benefits from no duplicate samples in a batch\n",
    "    eval_strategy=\"epoch\",                      # evaluate after each epoch\n",
    "    save_strategy=\"epoch\",                      # save after each epoch\n",
    "    logging_steps=10,                           # log every 10 steps\n",
    "    save_total_limit=3,                         # save only the last 3 models\n",
    "    load_best_model_at_end=True,                # load the best model when training ends\n",
    "    metric_for_best_model=\"eval_dim_128_cosine_ndcg@10\",  # Optimizing for the best ndcg@10 score for the 128 dimension\n",
    "    report_to=\"none\")"
   ]
  },
  {
   "cell_type": "code",
   "execution_count": 35,
   "metadata": {
    "execution": {
     "iopub.execute_input": "2025-02-01T15:05:23.537439Z",
     "iopub.status.busy": "2025-02-01T15:05:23.537153Z",
     "iopub.status.idle": "2025-02-01T15:05:23.697016Z",
     "shell.execute_reply": "2025-02-01T15:05:23.696119Z",
     "shell.execute_reply.started": "2025-02-01T15:05:23.537409Z"
    },
    "trusted": true
   },
   "outputs": [],
   "source": [
    "trainer = SentenceTransformerTrainer(\n",
    "    model=model, \n",
    "    args=args,  \n",
    "    train_dataset=train_dataset.select_columns([\"anchor\", \"positive\"]),  \n",
    "    loss=train_loss,\n",
    "    evaluator=evaluator,\n",
    ")"
   ]
  },
  {
   "cell_type": "code",
   "execution_count": 36,
   "metadata": {
    "execution": {
     "iopub.execute_input": "2025-02-01T15:05:23.698130Z",
     "iopub.status.busy": "2025-02-01T15:05:23.697874Z",
     "iopub.status.idle": "2025-02-01T15:06:29.762029Z",
     "shell.execute_reply": "2025-02-01T15:06:29.761191Z",
     "shell.execute_reply.started": "2025-02-01T15:05:23.698100Z"
    },
    "trusted": true
   },
   "outputs": [
    {
     "data": {
      "text/html": [
       "\n",
       "    <div>\n",
       "      \n",
       "      <progress value='20' max='20' style='width:300px; height:20px; vertical-align: middle;'></progress>\n",
       "      [20/20 01:04, Epoch 3/4]\n",
       "    </div>\n",
       "    <table border=\"1\" class=\"dataframe\">\n",
       "  <thead>\n",
       " <tr style=\"text-align: left;\">\n",
       "      <th>Epoch</th>\n",
       "      <th>Training Loss</th>\n",
       "      <th>Validation Loss</th>\n",
       "      <th>Dim 768 Cosine Accuracy@1</th>\n",
       "      <th>Dim 768 Cosine Accuracy@3</th>\n",
       "      <th>Dim 768 Cosine Accuracy@5</th>\n",
       "      <th>Dim 768 Cosine Accuracy@10</th>\n",
       "      <th>Dim 768 Cosine Precision@1</th>\n",
       "      <th>Dim 768 Cosine Precision@3</th>\n",
       "      <th>Dim 768 Cosine Precision@5</th>\n",
       "      <th>Dim 768 Cosine Precision@10</th>\n",
       "      <th>Dim 768 Cosine Recall@1</th>\n",
       "      <th>Dim 768 Cosine Recall@3</th>\n",
       "      <th>Dim 768 Cosine Recall@5</th>\n",
       "      <th>Dim 768 Cosine Recall@10</th>\n",
       "      <th>Dim 768 Cosine Ndcg@10</th>\n",
       "      <th>Dim 768 Cosine Mrr@10</th>\n",
       "      <th>Dim 768 Cosine Map@100</th>\n",
       "      <th>Dim 512 Cosine Accuracy@1</th>\n",
       "      <th>Dim 512 Cosine Accuracy@3</th>\n",
       "      <th>Dim 512 Cosine Accuracy@5</th>\n",
       "      <th>Dim 512 Cosine Accuracy@10</th>\n",
       "      <th>Dim 512 Cosine Precision@1</th>\n",
       "      <th>Dim 512 Cosine Precision@3</th>\n",
       "      <th>Dim 512 Cosine Precision@5</th>\n",
       "      <th>Dim 512 Cosine Precision@10</th>\n",
       "      <th>Dim 512 Cosine Recall@1</th>\n",
       "      <th>Dim 512 Cosine Recall@3</th>\n",
       "      <th>Dim 512 Cosine Recall@5</th>\n",
       "      <th>Dim 512 Cosine Recall@10</th>\n",
       "      <th>Dim 512 Cosine Ndcg@10</th>\n",
       "      <th>Dim 512 Cosine Mrr@10</th>\n",
       "      <th>Dim 512 Cosine Map@100</th>\n",
       "      <th>Dim 256 Cosine Accuracy@1</th>\n",
       "      <th>Dim 256 Cosine Accuracy@3</th>\n",
       "      <th>Dim 256 Cosine Accuracy@5</th>\n",
       "      <th>Dim 256 Cosine Accuracy@10</th>\n",
       "      <th>Dim 256 Cosine Precision@1</th>\n",
       "      <th>Dim 256 Cosine Precision@3</th>\n",
       "      <th>Dim 256 Cosine Precision@5</th>\n",
       "      <th>Dim 256 Cosine Precision@10</th>\n",
       "      <th>Dim 256 Cosine Recall@1</th>\n",
       "      <th>Dim 256 Cosine Recall@3</th>\n",
       "      <th>Dim 256 Cosine Recall@5</th>\n",
       "      <th>Dim 256 Cosine Recall@10</th>\n",
       "      <th>Dim 256 Cosine Ndcg@10</th>\n",
       "      <th>Dim 256 Cosine Mrr@10</th>\n",
       "      <th>Dim 256 Cosine Map@100</th>\n",
       "      <th>Dim 128 Cosine Accuracy@1</th>\n",
       "      <th>Dim 128 Cosine Accuracy@3</th>\n",
       "      <th>Dim 128 Cosine Accuracy@5</th>\n",
       "      <th>Dim 128 Cosine Accuracy@10</th>\n",
       "      <th>Dim 128 Cosine Precision@1</th>\n",
       "      <th>Dim 128 Cosine Precision@3</th>\n",
       "      <th>Dim 128 Cosine Precision@5</th>\n",
       "      <th>Dim 128 Cosine Precision@10</th>\n",
       "      <th>Dim 128 Cosine Recall@1</th>\n",
       "      <th>Dim 128 Cosine Recall@3</th>\n",
       "      <th>Dim 128 Cosine Recall@5</th>\n",
       "      <th>Dim 128 Cosine Recall@10</th>\n",
       "      <th>Dim 128 Cosine Ndcg@10</th>\n",
       "      <th>Dim 128 Cosine Mrr@10</th>\n",
       "      <th>Dim 128 Cosine Map@100</th>\n",
       "      <th>Dim 64 Cosine Accuracy@1</th>\n",
       "      <th>Dim 64 Cosine Accuracy@3</th>\n",
       "      <th>Dim 64 Cosine Accuracy@5</th>\n",
       "      <th>Dim 64 Cosine Accuracy@10</th>\n",
       "      <th>Dim 64 Cosine Precision@1</th>\n",
       "      <th>Dim 64 Cosine Precision@3</th>\n",
       "      <th>Dim 64 Cosine Precision@5</th>\n",
       "      <th>Dim 64 Cosine Precision@10</th>\n",
       "      <th>Dim 64 Cosine Recall@1</th>\n",
       "      <th>Dim 64 Cosine Recall@3</th>\n",
       "      <th>Dim 64 Cosine Recall@5</th>\n",
       "      <th>Dim 64 Cosine Recall@10</th>\n",
       "      <th>Dim 64 Cosine Ndcg@10</th>\n",
       "      <th>Dim 64 Cosine Mrr@10</th>\n",
       "      <th>Dim 64 Cosine Map@100</th>\n",
       "      <th>Sequential Score</th>\n",
       "    </tr>\n",
       "  </thead>\n",
       "  <tbody>\n",
       "    <tr>\n",
       "      <td>0</td>\n",
       "      <td>No log</td>\n",
       "      <td>No log</td>\n",
       "      <td>0.222222</td>\n",
       "      <td>0.370370</td>\n",
       "      <td>0.456790</td>\n",
       "      <td>0.592593</td>\n",
       "      <td>0.222222</td>\n",
       "      <td>0.123457</td>\n",
       "      <td>0.091358</td>\n",
       "      <td>0.059259</td>\n",
       "      <td>0.222222</td>\n",
       "      <td>0.370370</td>\n",
       "      <td>0.456790</td>\n",
       "      <td>0.592593</td>\n",
       "      <td>0.385446</td>\n",
       "      <td>0.321786</td>\n",
       "      <td>0.335582</td>\n",
       "      <td>0.222222</td>\n",
       "      <td>0.358025</td>\n",
       "      <td>0.432099</td>\n",
       "      <td>0.567901</td>\n",
       "      <td>0.222222</td>\n",
       "      <td>0.119342</td>\n",
       "      <td>0.086420</td>\n",
       "      <td>0.056790</td>\n",
       "      <td>0.222222</td>\n",
       "      <td>0.358025</td>\n",
       "      <td>0.432099</td>\n",
       "      <td>0.567901</td>\n",
       "      <td>0.379629</td>\n",
       "      <td>0.321669</td>\n",
       "      <td>0.336368</td>\n",
       "      <td>0.222222</td>\n",
       "      <td>0.345679</td>\n",
       "      <td>0.407407</td>\n",
       "      <td>0.580247</td>\n",
       "      <td>0.222222</td>\n",
       "      <td>0.115226</td>\n",
       "      <td>0.081481</td>\n",
       "      <td>0.058025</td>\n",
       "      <td>0.222222</td>\n",
       "      <td>0.345679</td>\n",
       "      <td>0.407407</td>\n",
       "      <td>0.580247</td>\n",
       "      <td>0.378679</td>\n",
       "      <td>0.317519</td>\n",
       "      <td>0.331103</td>\n",
       "      <td>0.185185</td>\n",
       "      <td>0.320988</td>\n",
       "      <td>0.407407</td>\n",
       "      <td>0.543210</td>\n",
       "      <td>0.185185</td>\n",
       "      <td>0.106996</td>\n",
       "      <td>0.081481</td>\n",
       "      <td>0.054321</td>\n",
       "      <td>0.185185</td>\n",
       "      <td>0.320988</td>\n",
       "      <td>0.407407</td>\n",
       "      <td>0.543210</td>\n",
       "      <td>0.338820</td>\n",
       "      <td>0.276705</td>\n",
       "      <td>0.289858</td>\n",
       "      <td>0.148148</td>\n",
       "      <td>0.259259</td>\n",
       "      <td>0.283951</td>\n",
       "      <td>0.469136</td>\n",
       "      <td>0.148148</td>\n",
       "      <td>0.086420</td>\n",
       "      <td>0.056790</td>\n",
       "      <td>0.046914</td>\n",
       "      <td>0.148148</td>\n",
       "      <td>0.259259</td>\n",
       "      <td>0.283951</td>\n",
       "      <td>0.469136</td>\n",
       "      <td>0.283907</td>\n",
       "      <td>0.228762</td>\n",
       "      <td>0.242168</td>\n",
       "      <td>0.283907</td>\n",
       "    </tr>\n",
       "    <tr>\n",
       "      <td>1</td>\n",
       "      <td>5.403100</td>\n",
       "      <td>No log</td>\n",
       "      <td>0.222222</td>\n",
       "      <td>0.419753</td>\n",
       "      <td>0.506173</td>\n",
       "      <td>0.679012</td>\n",
       "      <td>0.222222</td>\n",
       "      <td>0.139918</td>\n",
       "      <td>0.101235</td>\n",
       "      <td>0.067901</td>\n",
       "      <td>0.222222</td>\n",
       "      <td>0.419753</td>\n",
       "      <td>0.506173</td>\n",
       "      <td>0.679012</td>\n",
       "      <td>0.423446</td>\n",
       "      <td>0.345277</td>\n",
       "      <td>0.354727</td>\n",
       "      <td>0.222222</td>\n",
       "      <td>0.395062</td>\n",
       "      <td>0.506173</td>\n",
       "      <td>0.641975</td>\n",
       "      <td>0.222222</td>\n",
       "      <td>0.131687</td>\n",
       "      <td>0.101235</td>\n",
       "      <td>0.064198</td>\n",
       "      <td>0.222222</td>\n",
       "      <td>0.395062</td>\n",
       "      <td>0.506173</td>\n",
       "      <td>0.641975</td>\n",
       "      <td>0.415034</td>\n",
       "      <td>0.344459</td>\n",
       "      <td>0.356421</td>\n",
       "      <td>0.246914</td>\n",
       "      <td>0.358025</td>\n",
       "      <td>0.456790</td>\n",
       "      <td>0.641975</td>\n",
       "      <td>0.246914</td>\n",
       "      <td>0.119342</td>\n",
       "      <td>0.091358</td>\n",
       "      <td>0.064198</td>\n",
       "      <td>0.246914</td>\n",
       "      <td>0.358025</td>\n",
       "      <td>0.456790</td>\n",
       "      <td>0.641975</td>\n",
       "      <td>0.410690</td>\n",
       "      <td>0.341402</td>\n",
       "      <td>0.353561</td>\n",
       "      <td>0.197531</td>\n",
       "      <td>0.345679</td>\n",
       "      <td>0.456790</td>\n",
       "      <td>0.567901</td>\n",
       "      <td>0.197531</td>\n",
       "      <td>0.115226</td>\n",
       "      <td>0.091358</td>\n",
       "      <td>0.056790</td>\n",
       "      <td>0.197531</td>\n",
       "      <td>0.345679</td>\n",
       "      <td>0.456790</td>\n",
       "      <td>0.567901</td>\n",
       "      <td>0.365083</td>\n",
       "      <td>0.301778</td>\n",
       "      <td>0.317183</td>\n",
       "      <td>0.160494</td>\n",
       "      <td>0.296296</td>\n",
       "      <td>0.382716</td>\n",
       "      <td>0.518519</td>\n",
       "      <td>0.160494</td>\n",
       "      <td>0.098765</td>\n",
       "      <td>0.076543</td>\n",
       "      <td>0.051852</td>\n",
       "      <td>0.160494</td>\n",
       "      <td>0.296296</td>\n",
       "      <td>0.382716</td>\n",
       "      <td>0.518519</td>\n",
       "      <td>0.320024</td>\n",
       "      <td>0.259289</td>\n",
       "      <td>0.273385</td>\n",
       "      <td>0.320024</td>\n",
       "    </tr>\n",
       "    <tr>\n",
       "      <td>2</td>\n",
       "      <td>5.403100</td>\n",
       "      <td>No log</td>\n",
       "      <td>0.234568</td>\n",
       "      <td>0.444444</td>\n",
       "      <td>0.506173</td>\n",
       "      <td>0.703704</td>\n",
       "      <td>0.234568</td>\n",
       "      <td>0.148148</td>\n",
       "      <td>0.101235</td>\n",
       "      <td>0.070370</td>\n",
       "      <td>0.234568</td>\n",
       "      <td>0.444444</td>\n",
       "      <td>0.506173</td>\n",
       "      <td>0.703704</td>\n",
       "      <td>0.442395</td>\n",
       "      <td>0.362542</td>\n",
       "      <td>0.370762</td>\n",
       "      <td>0.222222</td>\n",
       "      <td>0.407407</td>\n",
       "      <td>0.518519</td>\n",
       "      <td>0.654321</td>\n",
       "      <td>0.222222</td>\n",
       "      <td>0.135802</td>\n",
       "      <td>0.103704</td>\n",
       "      <td>0.065432</td>\n",
       "      <td>0.222222</td>\n",
       "      <td>0.407407</td>\n",
       "      <td>0.518519</td>\n",
       "      <td>0.654321</td>\n",
       "      <td>0.423616</td>\n",
       "      <td>0.351778</td>\n",
       "      <td>0.363392</td>\n",
       "      <td>0.234568</td>\n",
       "      <td>0.382716</td>\n",
       "      <td>0.469136</td>\n",
       "      <td>0.679012</td>\n",
       "      <td>0.234568</td>\n",
       "      <td>0.127572</td>\n",
       "      <td>0.093827</td>\n",
       "      <td>0.067901</td>\n",
       "      <td>0.234568</td>\n",
       "      <td>0.382716</td>\n",
       "      <td>0.469136</td>\n",
       "      <td>0.679012</td>\n",
       "      <td>0.426578</td>\n",
       "      <td>0.350098</td>\n",
       "      <td>0.360351</td>\n",
       "      <td>0.222222</td>\n",
       "      <td>0.382716</td>\n",
       "      <td>0.469136</td>\n",
       "      <td>0.567901</td>\n",
       "      <td>0.222222</td>\n",
       "      <td>0.127572</td>\n",
       "      <td>0.093827</td>\n",
       "      <td>0.056790</td>\n",
       "      <td>0.222222</td>\n",
       "      <td>0.382716</td>\n",
       "      <td>0.469136</td>\n",
       "      <td>0.567901</td>\n",
       "      <td>0.385192</td>\n",
       "      <td>0.327871</td>\n",
       "      <td>0.344512</td>\n",
       "      <td>0.160494</td>\n",
       "      <td>0.308642</td>\n",
       "      <td>0.419753</td>\n",
       "      <td>0.555556</td>\n",
       "      <td>0.160494</td>\n",
       "      <td>0.102881</td>\n",
       "      <td>0.083951</td>\n",
       "      <td>0.055556</td>\n",
       "      <td>0.160494</td>\n",
       "      <td>0.308642</td>\n",
       "      <td>0.419753</td>\n",
       "      <td>0.555556</td>\n",
       "      <td>0.336319</td>\n",
       "      <td>0.269028</td>\n",
       "      <td>0.282068</td>\n",
       "      <td>0.336319</td>\n",
       "    </tr>\n",
       "    <tr>\n",
       "      <td>3</td>\n",
       "      <td>3.573800</td>\n",
       "      <td>No log</td>\n",
       "      <td>0.246914</td>\n",
       "      <td>0.444444</td>\n",
       "      <td>0.518519</td>\n",
       "      <td>0.716049</td>\n",
       "      <td>0.246914</td>\n",
       "      <td>0.148148</td>\n",
       "      <td>0.103704</td>\n",
       "      <td>0.071605</td>\n",
       "      <td>0.246914</td>\n",
       "      <td>0.444444</td>\n",
       "      <td>0.518519</td>\n",
       "      <td>0.716049</td>\n",
       "      <td>0.455199</td>\n",
       "      <td>0.375578</td>\n",
       "      <td>0.382917</td>\n",
       "      <td>0.222222</td>\n",
       "      <td>0.407407</td>\n",
       "      <td>0.518519</td>\n",
       "      <td>0.666667</td>\n",
       "      <td>0.222222</td>\n",
       "      <td>0.135802</td>\n",
       "      <td>0.103704</td>\n",
       "      <td>0.066667</td>\n",
       "      <td>0.222222</td>\n",
       "      <td>0.407407</td>\n",
       "      <td>0.518519</td>\n",
       "      <td>0.666667</td>\n",
       "      <td>0.428979</td>\n",
       "      <td>0.355242</td>\n",
       "      <td>0.365873</td>\n",
       "      <td>0.234568</td>\n",
       "      <td>0.382716</td>\n",
       "      <td>0.469136</td>\n",
       "      <td>0.691358</td>\n",
       "      <td>0.234568</td>\n",
       "      <td>0.127572</td>\n",
       "      <td>0.093827</td>\n",
       "      <td>0.069136</td>\n",
       "      <td>0.234568</td>\n",
       "      <td>0.382716</td>\n",
       "      <td>0.469136</td>\n",
       "      <td>0.691358</td>\n",
       "      <td>0.429834</td>\n",
       "      <td>0.351004</td>\n",
       "      <td>0.360267</td>\n",
       "      <td>0.222222</td>\n",
       "      <td>0.395062</td>\n",
       "      <td>0.481481</td>\n",
       "      <td>0.567901</td>\n",
       "      <td>0.222222</td>\n",
       "      <td>0.131687</td>\n",
       "      <td>0.096296</td>\n",
       "      <td>0.056790</td>\n",
       "      <td>0.222222</td>\n",
       "      <td>0.395062</td>\n",
       "      <td>0.481481</td>\n",
       "      <td>0.567901</td>\n",
       "      <td>0.386709</td>\n",
       "      <td>0.329605</td>\n",
       "      <td>0.347031</td>\n",
       "      <td>0.160494</td>\n",
       "      <td>0.308642</td>\n",
       "      <td>0.432099</td>\n",
       "      <td>0.555556</td>\n",
       "      <td>0.160494</td>\n",
       "      <td>0.102881</td>\n",
       "      <td>0.086420</td>\n",
       "      <td>0.055556</td>\n",
       "      <td>0.160494</td>\n",
       "      <td>0.308642</td>\n",
       "      <td>0.432099</td>\n",
       "      <td>0.555556</td>\n",
       "      <td>0.338634</td>\n",
       "      <td>0.271894</td>\n",
       "      <td>0.285165</td>\n",
       "      <td>0.338634</td>\n",
       "    </tr>\n",
       "  </tbody>\n",
       "</table><p>"
      ],
      "text/plain": [
       "<IPython.core.display.HTML object>"
      ]
     },
     "metadata": {},
     "output_type": "display_data"
    },
    {
     "data": {
      "application/vnd.jupyter.widget-view+json": {
       "model_id": "",
       "version_major": 2,
       "version_minor": 0
      },
      "text/plain": [
       "Computing widget examples:   0%|          | 0/1 [00:00<?, ?example/s]"
      ]
     },
     "metadata": {},
     "output_type": "display_data"
    },
    {
     "data": {
      "text/plain": [
       "TrainOutput(global_step=20, training_loss=4.488420486450195, metrics={'train_runtime': 65.6946, 'train_samples_per_second': 44.022, 'train_steps_per_second': 0.304, 'total_flos': 0.0, 'train_loss': 4.488420486450195, 'epoch': 3.869565217391304})"
      ]
     },
     "execution_count": 36,
     "metadata": {},
     "output_type": "execute_result"
    }
   ],
   "source": [
    "trainer.train()"
   ]
  },
  {
   "cell_type": "code",
   "execution_count": 37,
   "metadata": {
    "execution": {
     "iopub.execute_input": "2025-02-01T15:06:29.763329Z",
     "iopub.status.busy": "2025-02-01T15:06:29.762998Z",
     "iopub.status.idle": "2025-02-01T15:06:30.910391Z",
     "shell.execute_reply": "2025-02-01T15:06:30.909698Z",
     "shell.execute_reply.started": "2025-02-01T15:06:29.763294Z"
    },
    "trusted": true
   },
   "outputs": [],
   "source": [
    "trainer.save_model()"
   ]
  },
  {
   "cell_type": "code",
   "execution_count": 38,
   "metadata": {
    "execution": {
     "iopub.execute_input": "2025-02-01T15:06:30.911309Z",
     "iopub.status.busy": "2025-02-01T15:06:30.911109Z",
     "iopub.status.idle": "2025-02-01T15:06:35.495884Z",
     "shell.execute_reply": "2025-02-01T15:06:35.495156Z",
     "shell.execute_reply.started": "2025-02-01T15:06:30.911291Z"
    },
    "trusted": true
   },
   "outputs": [
    {
     "name": "stdout",
     "output_type": "stream",
     "text": [
      "dim_768_cosine_ndcg@10: 0.45347804212937676\n",
      "dim_512_cosine_ndcg@10: 0.42930530454496996\n",
      "dim_256_cosine_ndcg@10: 0.4295385601742736\n",
      "dim_128_cosine_ndcg@10: 0.3863302926159187\n",
      "dim_64_cosine_ndcg@10: 0.3387819186395353\n"
     ]
    }
   ],
   "source": [
    "from sentence_transformers import SentenceTransformer\n",
    "\n",
    "fine_tuned_model = SentenceTransformer(args.output_dir, device=\"cuda\")\n",
    "\n",
    "results = evaluator(fine_tuned_model)\n",
    "\n",
    "for dim in matryoshka_dimensions:\n",
    "    key = f\"dim_{dim}_cosine_ndcg@10\"\n",
    "    print(f\"{key}: {results[key]}\")"
   ]
  },
  {
   "cell_type": "code",
   "execution_count": 40,
   "metadata": {
    "execution": {
     "iopub.execute_input": "2025-02-01T15:14:41.306798Z",
     "iopub.status.busy": "2025-02-01T15:14:41.306451Z",
     "iopub.status.idle": "2025-02-01T15:14:41.311607Z",
     "shell.execute_reply": "2025-02-01T15:14:41.310836Z",
     "shell.execute_reply.started": "2025-02-01T15:14:41.306768Z"
    },
    "trusted": true
   },
   "outputs": [
    {
     "data": {
      "text/plain": [
       "'\\nDimension\\tBaseline\\tFine-tuned\\tImprovement\\n768\\t        0.322\\t    0.453\\t   40.68 %\\n512\\t        0.299\\t    0.429\\t   43.47 %\\n256      \\t0.287\\t    0.429\\t   49.47 %\\n128\\t        0.282\\t    0.386\\t   36.88 %\\n64\\t        0.232\\t    0.338\\t   45.68 %\\n'"
      ]
     },
     "execution_count": 40,
     "metadata": {},
     "output_type": "execute_result"
    }
   ],
   "source": [
    "'''\n",
    "Dimension\tBaseline\tFine-tuned\tImprovement\n",
    "768\t        0.322\t    0.453\t   40.68 %\n",
    "512\t        0.299\t    0.429\t   43.47 %\n",
    "256      \t0.287\t    0.429\t   49.47 %\n",
    "128\t        0.282\t    0.386\t   36.88 %\n",
    "64\t        0.232\t    0.338\t   45.68 %\n",
    "'''"
   ]
  }
 ],
 "metadata": {
  "kaggle": {
   "accelerator": "gpu",
   "dataSources": [
    {
     "datasetId": 6584413,
     "sourceId": 10634775,
     "sourceType": "datasetVersion"
    }
   ],
   "dockerImageVersionId": 30840,
   "isGpuEnabled": true,
   "isInternetEnabled": true,
   "language": "python",
   "sourceType": "notebook"
  },
  "kernelspec": {
   "display_name": "Python 3",
   "language": "python",
   "name": "python3"
  },
  "language_info": {
   "codemirror_mode": {
    "name": "ipython",
    "version": 3
   },
   "file_extension": ".py",
   "mimetype": "text/x-python",
   "name": "python",
   "nbconvert_exporter": "python",
   "pygments_lexer": "ipython3",
   "version": "3.10.12"
  }
 },
 "nbformat": 4,
 "nbformat_minor": 4
}
